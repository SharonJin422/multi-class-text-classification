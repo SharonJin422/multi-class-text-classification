import joblib
import pandas as pd
import numpy as np
import matplotlib.pyplot as plt

# 分析原始数据的特点

1）文本的长度和长度的分布：

文本长度最短为6，最长为56181,分布不均，但是75%的数据长度在514以下，从分布来看，max_seq_len设置为600可以涵盖85%的数据，对长尾数据进行截断

2）label的个数和label的分布:

类别分布不均匀，可能会影响部分类别的预测精度

# data distribution analysis of text
train = joblib.load('data/train_data.p')
text = pd.DataFrame(train['text'])
text['len'] = text['text'].str.len()
text.describe() 
text['len'].value_counts().plot(kind = 'bar')

# data distribution analysis of labels
y = train['label']

c = {'label':[np.argmax(i) for i in y]}

c = pd.DataFrame(c)

c['label'].value_counts().plot(kind = 'bar')

c['label'].value_counts()
